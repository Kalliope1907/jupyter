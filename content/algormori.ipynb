{
  "metadata": {
    "kernelspec": {
      "name": "p5js",
      "display_name": "p5.js",
      "language": "javascript"
    },
    "language_info": {
      "codemirror_mode": {
        "name": "javascript"
      },
      "file_extension": ".js",
      "mimetype": "text/javascript",
      "name": "p5js",
      "nbconvert_exporter": "javascript",
      "pygments_lexer": "javascript",
      "version": "es2017"
    }
  },
  "nbformat_minor": 4,
  "nbformat": 4,
  "cells": [
    {
      "cell_type": "markdown",
      "source": "## Algorithmus Animation zur Ermittlung einer passenden Abstiegsfunktion\n\n\n",
      "metadata": {}
    },
    {
      "cell_type": "markdown",
      "source": "Code:",
      "metadata": {}
    },
    {
      "cell_type": "code",
      "source": "import numpy as np\nimport matplotlib.pyplot as plt\nfrom matplotlib.animation import FuncAnimation\nfrom IPython import display\nfrom IPython.display import HTML\n\n# Benutzereingabe für a, b_min und b_max mit Überprüfung\na_input = input('Geben Sie den Wert für a ein: ')\nb_min_input = input('Geben Sie den Wert für b_min ein: ')\nb_max_input = input('Geben Sie den Wert für b_max ein: ')\n\n# Konvertiere und überprüfe die Eingaben\ntry:\n    a = int(a_input)\n    b_min = int(b_min_input)\n    b_max = int(b_max_input)\nexcept ValueError:\n    raise ValueError('Ungültige Eingabe. Bitte geben Sie eine ganze Zahl ein.')\n\nif b_min >= b_max:\n    raise ValueError('b_min muss kleiner als b_max sein.')\n\n# Canvas\nfig, ax = plt.subplots()\nax.set_xlabel('a')\nax.set_ylabel('b')\nax.set_title('Animation des Algorithmus')\nax.grid(True)  # Gitter anzeigen\n\n# Daten für die Animation\nb_values = list(range(b_min, b_max + 1))\n\n# Generatorfunktion für die Animation\ndef data_gen():\n    # Zähler\n    count_plus = 0\n    count_minus = 0\n\n    for b in b_values:\n        a = int(a_input)  # Reinitialisiere a\n        x_start = a\n        y_start = b\n\n        # Algorithmus\n        while a != 0 and b != 0:\n            x_end = x_start\n            y_end = y_start\n\n            if a * b < 0:\n                a = a + b\n                count_plus += 1\n                x_end = a\n                color = 'b'\n            elif a * b > 0:\n                b = b - a\n                count_minus += 1\n                y_end = b\n                color = 'r'\n\n            if (x_end != x_start) or (y_end != y_start):\n                yield (x_start, y_start, x_end - x_start, y_end - y_start, color)\n\n            x_start = x_end\n            y_start = y_end\n\n        print(f'Operationen: {count_plus + count_minus}, Endwerte: a = {a}, b = {b}')\n\n# Animationsfunktion\ndef update(data):\n    Q.set_UVC(data[2], data[3])\n    Q.set_offsets((data[0], data[1]))\n    Q.set_color(data[4])\n    return Q,\n\ndata = data_gen()\nnext_data = next(data)\nQ = ax.quiver(next_data[0], next_data[1], next_data[2], next_data[3], color=next_data[4])\n\nani = FuncAnimation(fig, update, frames=data_gen, interval=100, blit=True)\n\nplt.show()",
      "metadata": {
        "trusted": true
      },
      "outputs": [],
      "execution_count": 4
    },
    {
      "cell_type": "code",
      "source": "",
      "metadata": {
        "trusted": true
      },
      "outputs": [],
      "execution_count": null
    }
  ]
}