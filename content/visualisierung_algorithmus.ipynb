{
  "cells": [
    {
      "cell_type": "markdown",
      "metadata": {},
      "source": [
        "### Führen Sie den nachfolgenden Code aus ( ▶ ).\n",
        "Danach können Sie die Parameter (a,b_min, b_max) über die Schieberegler verändern.<br>\n",
        "Auch den Code können Sie nach Belieben anpassen."
      ]
    },
    {
      "cell_type": "code",
      "execution_count": 9,
      "metadata": {
        "trusted": true
      },
      "outputs": [
        {
          "ename": "ModuleNotFoundError",
          "evalue": "No module named 'micropip'",
          "output_type": "error",
          "traceback": [
            "\u001b[1;31m---------------------------------------------------------------------------\u001b[0m",
            "\u001b[1;31mModuleNotFoundError\u001b[0m                       Traceback (most recent call last)",
            "Cell \u001b[1;32mIn[9], line 1\u001b[0m\n\u001b[1;32m----> 1\u001b[0m \u001b[38;5;28;01mimport\u001b[39;00m \u001b[38;5;21;01mmicropip\u001b[39;00m\n\u001b[0;32m      2\u001b[0m \u001b[38;5;28;01mawait\u001b[39;00m micropip\u001b[38;5;241m.\u001b[39minstall(\u001b[38;5;124m'\u001b[39m\u001b[38;5;124mmatplotlib\u001b[39m\u001b[38;5;124m'\u001b[39m)\n\u001b[0;32m      3\u001b[0m \u001b[38;5;28;01mawait\u001b[39;00m micropip\u001b[38;5;241m.\u001b[39minstall(\u001b[38;5;124m'\u001b[39m\u001b[38;5;124mipywidgets\u001b[39m\u001b[38;5;124m'\u001b[39m)\n",
            "\u001b[1;31mModuleNotFoundError\u001b[0m: No module named 'micropip'"
          ]
        }
      ],
      "source": [
        "import micropip\n",
        "await micropip.install('matplotlib')\n",
        "await micropip.install('ipywidgets')\n",
        "\n",
        "import matplotlib.pyplot as plt\n",
        "import numpy as np\n",
        "import time\n",
        "from ipywidgets import interact\n",
        "from matplotlib.ticker import MultipleLocator\n",
        "\n",
        "def algorithm(a, b):\n",
        "    hrz = True\n",
        "    if a * b < 0:\n",
        "        a = a + b\n",
        "        hrz = False\n",
        "    elif a * b > 0:\n",
        "        b = b - a\n",
        "    return a, b, hrz\n",
        "\n",
        "def generateVectorField(b0=1, a_min=1, a_max=10):\n",
        "    px = []\n",
        "    py = []\n",
        "    pu = []\n",
        "    pv = []\n",
        "    pc = []\n",
        "    for a0 in range(a_min, a_max+1):\n",
        "        a=a0\n",
        "        b=b0\n",
        "        while a != 0 and b != 0:\n",
        "            px.append(a)\n",
        "            py.append(b)\n",
        "            u, v, hrz = algorithm(a, b)\n",
        "            pu.append(u-a)\n",
        "            pv.append(v-b)\n",
        "            a, b = u, v\n",
        "            pc.append(0 if hrz else 1)\n",
        "    return px, py, pu, pv, pc\n",
        "\n",
        "def updatePlot(b0=1, a_min=1, a_max=10):\n",
        "    # Define the figure and initial plot\n",
        "    fig, ax = plt.subplots()\n",
        "    px, py, pu, pv, pc = generateVectorField(b0, a_min, a_max)\n",
        "    viewport_size = max(abs(b0), abs(a_max))\n",
        "    ax.spines['left'].set_position('zero')\n",
        "    ax.spines['bottom'].set_position('zero')\n",
        "    ax.spines['right'].set_visible(False)\n",
        "    ax.spines['top'].set_visible(False)\n",
        "    ax.quiver(px, py, pu, pv, pc, scale_units='xy', angles='xy', scale=1, width=0.002)\n",
        "    ax.set_xlim(-viewport_size, viewport_size)  # Set x-axis limits\n",
        "    ax.set_ylim(-viewport_size, viewport_size)  # Set y-axis limits\n",
        "    ax.xaxis.set_major_locator(MultipleLocator(1))\n",
        "    ax.yaxis.set_major_locator(MultipleLocator(1))\n",
        "    ax.grid(color='black', linestyle='-', linewidth=0.5, alpha=0.1)\n",
        "    plt.tick_params(left = False, right = False , labelleft = False , labelbottom = False, bottom = False) \n",
        "    plt.show()\n",
        "\n",
        "interact(updatePlot, b0=(-127, 127), a_min=(-127, 127), a_max=(-127, 127));\n",
        "# © Moritz Sommer"
      ]
    },
    {
      "cell_type": "code",
      "execution_count": null,
      "metadata": {
        "trusted": true
      },
      "outputs": [],
      "source": []
    }
  ],
  "metadata": {
    "kernelspec": {
      "display_name": "base",
      "language": "python",
      "name": "python3"
    },
    "language_info": {
      "codemirror_mode": {
        "name": "ipython",
        "version": 3
      },
      "file_extension": ".py",
      "mimetype": "text/x-python",
      "name": "python",
      "nbconvert_exporter": "python",
      "pygments_lexer": "ipython3",
      "version": "3.11.7"
    }
  },
  "nbformat": 4,
  "nbformat_minor": 4
}
