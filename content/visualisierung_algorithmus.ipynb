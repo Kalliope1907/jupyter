{
  "metadata": {
    "kernelspec": {
      "name": "python",
      "display_name": "Python (Pyodide)",
      "language": "python"
    },
    "language_info": {
      "codemirror_mode": {
        "name": "python",
        "version": 3
      },
      "file_extension": ".py",
      "mimetype": "text/x-python",
      "name": "python",
      "nbconvert_exporter": "python",
      "pygments_lexer": "ipython3",
      "version": "3.8"
    }
  },
  "nbformat_minor": 4,
  "nbformat": 4,
  "cells": [
    {
      "cell_type": "markdown",
      "source": "# Führen Sie den Code aus! 🚀\nDie Parameter (a,b_min, b_max) können Sie über die Schieberegler verändern.\nAuch den Code können Sie nach Belieben anpassen, wenn sie es können. ",
      "metadata": {}
    },
    {
      "cell_type": "code",
      "source": "import micropip\nawait micropip.install('matplotlib')\nawait micropip.install('ipywidgets')\n\nimport matplotlib.pyplot as plt\nimport numpy as np\nimport time\nfrom ipywidgets import interact\nfrom matplotlib.ticker import MultipleLocator\n\ndef algorithm(a, b):\n    hrz = True\n    if a * b < 0:\n        a = a + b\n        hrz = False\n    elif a * b > 0:\n        b = b - a\n    return a, b, hrz\n\ndef generateVectorField(b0=1, a_min=1, a_max=10):\n    px = []\n    py = []\n    pu = []\n    pv = []\n    pc = []\n    for a0 in range(a_min, a_max+1):\n        a=a0\n        b=b0\n        while a != 0 and b != 0:\n            px.append(a)\n            py.append(b)\n            u, v, hrz = algorithm(a, b)\n            pu.append(u-a)\n            pv.append(v-b)\n            a, b = u, v\n            pc.append(0 if hrz else 1)\n    return px, py, pu, pv, pc\n\ndef updatePlot(b0=1, a_min=1, a_max=10):\n    # Define the figure and initial plot\n    fig, ax = plt.subplots()\n    px, py, pu, pv, pc = generateVectorField(b0, a_min, a_max)\n    viewport_size = max(abs(b0), abs(a_max))\n    ax.spines['left'].set_position('zero')\n    ax.spines['bottom'].set_position('zero')\n    ax.spines['right'].set_visible(False)\n    ax.spines['top'].set_visible(False)\n    ax.quiver(px, py, pu, pv, pc, scale_units='xy', angles='xy', scale=1, width=0.002)\n    ax.set_xlim(-viewport_size, viewport_size)  # Set x-axis limits\n    ax.set_ylim(-viewport_size, viewport_size)  # Set y-axis limits\n    ax.xaxis.set_major_locator(MultipleLocator(1))\n    ax.yaxis.set_major_locator(MultipleLocator(1))\n    ax.grid(color='black', linestyle='-', linewidth=0.5, alpha=0.1)\n    plt.tick_params(left = False, right = False , labelleft = False , labelbottom = False, bottom = False) \n    plt.show()\n\ninteract(updatePlot, b0=(-127, 127), a_min=(-127, 127), a_max=(-127, 127));\n# © Moritz Sommer",
      "metadata": {
        "trusted": true
      },
      "outputs": [
        {
          "output_type": "display_data",
          "data": {
            "text/plain": "interactive(children=(IntSlider(value=1, description='b0', max=127, min=-127), IntSlider(value=1, description=…",
            "application/vnd.jupyter.widget-view+json": {
              "version_major": 2,
              "version_minor": 0,
              "model_id": "8383b24b2e104d85a36b4ea622244a6c"
            }
          },
          "metadata": {}
        }
      ],
      "execution_count": 1
    },
    {
      "cell_type": "code",
      "source": "",
      "metadata": {
        "trusted": true
      },
      "outputs": [],
      "execution_count": null
    }
  ]
}